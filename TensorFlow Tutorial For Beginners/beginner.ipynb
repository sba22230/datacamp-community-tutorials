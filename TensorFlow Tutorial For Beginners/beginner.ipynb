{
 "cells": [
  {
   "cell_type": "markdown",
   "metadata": {
    "id": "rX8mhOLljYeM"
   },
   "source": [
    "##### Copyright 2019 The TensorFlow Authors."
   ]
  },
  {
   "cell_type": "code",
   "execution_count": 1,
   "metadata": {},
   "outputs": [
    {
     "name": "stdout",
     "output_type": "stream",
     "text": [
      "2.10.1\n"
     ]
    }
   ],
   "source": [
    "import tensorflow as tf; \n",
    "print(tf.__version__)"
   ]
  },
  {
   "cell_type": "code",
   "execution_count": 2,
   "metadata": {},
   "outputs": [
    {
     "name": "stdout",
     "output_type": "stream",
     "text": [
      "[PhysicalDevice(name='/physical_device:CPU:0', device_type='CPU'), PhysicalDevice(name='/physical_device:GPU:0', device_type='GPU'), PhysicalDevice(name='/physical_device:GPU:1', device_type='GPU')]\n"
     ]
    }
   ],
   "source": [
    "print(tf.config.list_physical_devices())"
   ]
  },
  {
   "cell_type": "code",
   "execution_count": 3,
   "metadata": {
    "cellView": "form",
    "execution": {
     "iopub.execute_input": "2023-01-05T02:22:10.406594Z",
     "iopub.status.busy": "2023-01-05T02:22:10.406330Z",
     "iopub.status.idle": "2023-01-05T02:22:10.411022Z",
     "shell.execute_reply": "2023-01-05T02:22:10.410244Z"
    },
    "id": "BZSlp3DAjdYf"
   },
   "outputs": [],
   "source": [
    "#@title Licensed under the Apache License, Version 2.0 (the \"License\");\n",
    "# you may not use this file except in compliance with the License.\n",
    "# You may obtain a copy of the License at\n",
    "#\n",
    "# https://www.apache.org/licenses/LICENSE-2.0\n",
    "#\n",
    "# Unless required by applicable law or agreed to in writing, software\n",
    "# distributed under the License is distributed on an \"AS IS\" BASIS,\n",
    "# WITHOUT WARRANTIES OR CONDITIONS OF ANY KIND, either express or implied.\n",
    "# See the License for the specific language governing permissions and\n",
    "# limitations under the License."
   ]
  },
  {
   "cell_type": "markdown",
   "metadata": {
    "id": "3wF5wszaj97Y"
   },
   "source": [
    "# TensorFlow 2 quickstart for beginners"
   ]
  },
  {
   "cell_type": "markdown",
   "metadata": {
    "id": "DUNzJc4jTj6G"
   },
   "source": [
    "<table class=\"tfo-notebook-buttons\" align=\"left\">\n",
    "  <td>\n",
    "    <a target=\"_blank\" href=\"https://www.tensorflow.org/tutorials/quickstart/beginner\"><img src=\"https://www.tensorflow.org/images/tf_logo_32px.png\" />View on TensorFlow.org</a>\n",
    "  </td>\n",
    "  <td>\n",
    "    <a target=\"_blank\" href=\"https://colab.research.google.com/github/tensorflow/docs/blob/master/site/en/tutorials/quickstart/beginner.ipynb\"><img src=\"https://www.tensorflow.org/images/colab_logo_32px.png\" />Run in Google Colab</a>\n",
    "  </td>\n",
    "  <td>\n",
    "    <a target=\"_blank\" href=\"https://github.com/tensorflow/docs/blob/master/site/en/tutorials/quickstart/beginner.ipynb\"><img src=\"https://www.tensorflow.org/images/GitHub-Mark-32px.png\" />View source on GitHub</a>\n",
    "  </td>\n",
    "  <td>\n",
    "    <a href=\"https://storage.googleapis.com/tensorflow_docs/docs/site/en/tutorials/quickstart/beginner.ipynb\"><img src=\"https://www.tensorflow.org/images/download_logo_32px.png\" />Download notebook</a>\n",
    "  </td>\n",
    "</table>"
   ]
  },
  {
   "cell_type": "markdown",
   "metadata": {
    "id": "04QgGZc9bF5D"
   },
   "source": [
    "This short introduction uses [Keras](https://www.tensorflow.org/guide/keras/overview) to:\n",
    "\n",
    "1. Load a prebuilt dataset.\n",
    "1. Build a neural network machine learning model that classifies images.\n",
    "2. Train this neural network.\n",
    "3. Evaluate the accuracy of the model."
   ]
  },
  {
   "cell_type": "markdown",
   "metadata": {
    "id": "hiH7AC-NTniF"
   },
   "source": [
    "This tutorial is a [Google Colaboratory](https://colab.research.google.com/notebooks/welcome.ipynb) notebook. Python programs are run directly in the browser—a great way to learn and use TensorFlow. To follow this tutorial, run the notebook in Google Colab by clicking the button at the top of this page.\n",
    "\n",
    "1. In Colab, connect to a Python runtime: At the top-right of the menu bar, select *CONNECT*.\n",
    "2. To run all the code in the notebook, select **Runtime** > **Run all**. To run the code cells one at a time, hover over each cell and select the **Run cell** icon.\n",
    "\n",
    "![Run cell icon](images/beginner/run_cell_icon.png)"
   ]
  },
  {
   "cell_type": "markdown",
   "metadata": {
    "id": "nnrWf3PCEzXL"
   },
   "source": [
    "## Set up TensorFlow\n",
    "\n",
    "Import TensorFlow into your program to get started:"
   ]
  },
  {
   "cell_type": "code",
   "execution_count": 4,
   "metadata": {
    "execution": {
     "iopub.execute_input": "2023-01-05T02:22:10.415302Z",
     "iopub.status.busy": "2023-01-05T02:22:10.415049Z",
     "iopub.status.idle": "2023-01-05T02:22:12.793816Z",
     "shell.execute_reply": "2023-01-05T02:22:12.792789Z"
    },
    "id": "0trJmd6DjqBZ"
   },
   "outputs": [
    {
     "name": "stdout",
     "output_type": "stream",
     "text": [
      "TensorFlow version: 2.10.1\n"
     ]
    }
   ],
   "source": [
    "import tensorflow as tf\n",
    "print(\"TensorFlow version:\", tf.__version__)"
   ]
  },
  {
   "cell_type": "code",
   "execution_count": 5,
   "metadata": {},
   "outputs": [
    {
     "name": "stdout",
     "output_type": "stream",
     "text": [
      "[PhysicalDevice(name='/physical_device:GPU:0', device_type='GPU'), PhysicalDevice(name='/physical_device:GPU:1', device_type='GPU')]\n"
     ]
    }
   ],
   "source": [
    "\n",
    "print(tf.config.list_physical_devices('GPU'))"
   ]
  },
  {
   "cell_type": "markdown",
   "metadata": {
    "id": "7NAbSZiaoJ4z"
   },
   "source": [
    "If you are following along in your own development environment, rather than [Colab](https://colab.research.google.com/github/tensorflow/docs/blob/master/site/en/tutorials/quickstart/beginner.ipynb), see the [install guide](https://www.tensorflow.org/install) for setting up TensorFlow for development.\n",
    "\n",
    "Note: Make sure you have upgraded to the latest `pip` to install the TensorFlow 2 package if you are using your own development environment. See the [install guide](https://www.tensorflow.org/install) for details.\n",
    "\n",
    "## Load a dataset\n",
    "\n",
    "Load and prepare the [MNIST dataset](http://yann.lecun.com/exdb/mnist/). The pixel values of the images range from 0 through 255. Scale these values to a range of 0 to 1 by dividing the values by `255.0`. This also converts the sample data from integers to floating-point numbers:"
   ]
  },
  {
   "cell_type": "code",
   "execution_count": 6,
   "metadata": {
    "execution": {
     "iopub.execute_input": "2023-01-05T02:22:12.798622Z",
     "iopub.status.busy": "2023-01-05T02:22:12.797547Z",
     "iopub.status.idle": "2023-01-05T02:22:13.500907Z",
     "shell.execute_reply": "2023-01-05T02:22:13.499769Z"
    },
    "id": "7FP5258xjs-v"
   },
   "outputs": [],
   "source": [
    "mnist = tf.keras.datasets.mnist\n",
    "\n",
    "(x_train, y_train), (x_test, y_test) = mnist.load_data()\n",
    "x_train, x_test = x_train / 255.0, x_test / 255.0"
   ]
  },
  {
   "cell_type": "markdown",
   "metadata": {
    "id": "BPZ68wASog_I"
   },
   "source": [
    "## Build a machine learning model\n",
    "\n",
    "Build a `tf.keras.Sequential` model:"
   ]
  },
  {
   "cell_type": "code",
   "execution_count": 7,
   "metadata": {
    "execution": {
     "iopub.execute_input": "2023-01-05T02:22:13.505483Z",
     "iopub.status.busy": "2023-01-05T02:22:13.505206Z",
     "iopub.status.idle": "2023-01-05T02:22:17.768724Z",
     "shell.execute_reply": "2023-01-05T02:22:17.767812Z"
    },
    "id": "h3IKyzTCDNGo"
   },
   "outputs": [],
   "source": [
    "model = tf.keras.models.Sequential([\n",
    "  tf.keras.layers.Flatten(input_shape=(28, 28)),\n",
    "  tf.keras.layers.Dense(128, activation='relu'),\n",
    "  tf.keras.layers.Dropout(0.2),\n",
    "  tf.keras.layers.Dense(10)\n",
    "])"
   ]
  },
  {
   "cell_type": "markdown",
   "metadata": {
    "id": "l2hiez2eIUz8"
   },
   "source": [
    "[`Sequential`](https://www.tensorflow.org/guide/keras/sequential_model) is useful for stacking layers where each layer has one input [tensor](https://www.tensorflow.org/guide/tensor) and one output tensor. Layers are functions with a known mathematical structure that can be reused and have trainable variables. Most TensorFlow models are composed of layers. This model uses the [`Flatten`](https://www.tensorflow.org/api_docs/python/tf/keras/layers/Flatten), [`Dense`](https://www.tensorflow.org/api_docs/python/tf/keras/layers/Dense), and [`Dropout`](https://www.tensorflow.org/api_docs/python/tf/keras/layers/Dropout) layers.\n",
    "\n",
    "For each example, the model returns a vector of [logits](https://developers.google.com/machine-learning/glossary#logits) or [log-odds](https://developers.google.com/machine-learning/glossary#log-odds) scores, one for each class."
   ]
  },
  {
   "cell_type": "code",
   "execution_count": 8,
   "metadata": {
    "execution": {
     "iopub.execute_input": "2023-01-05T02:22:17.772704Z",
     "iopub.status.busy": "2023-01-05T02:22:17.772437Z",
     "iopub.status.idle": "2023-01-05T02:22:20.072126Z",
     "shell.execute_reply": "2023-01-05T02:22:20.071185Z"
    },
    "id": "OeOrNdnkEEcR"
   },
   "outputs": [
    {
     "data": {
      "text/plain": [
       "array([[ 0.14116366,  0.45004767, -0.23359188, -0.7618405 , -0.39902514,\n",
       "         0.07490199, -0.43750775, -0.1146087 , -0.35857275,  0.3136936 ]],\n",
       "      dtype=float32)"
      ]
     },
     "execution_count": 8,
     "metadata": {},
     "output_type": "execute_result"
    }
   ],
   "source": [
    "predictions = model(x_train[:1]).numpy()\n",
    "predictions"
   ]
  },
  {
   "cell_type": "markdown",
   "metadata": {
    "id": "tgjhDQGcIniO"
   },
   "source": [
    "The `tf.nn.softmax` function converts these logits to *probabilities* for each class: "
   ]
  },
  {
   "cell_type": "code",
   "execution_count": 9,
   "metadata": {
    "execution": {
     "iopub.execute_input": "2023-01-05T02:22:20.076446Z",
     "iopub.status.busy": "2023-01-05T02:22:20.076157Z",
     "iopub.status.idle": "2023-01-05T02:22:20.083166Z",
     "shell.execute_reply": "2023-01-05T02:22:20.082329Z"
    },
    "id": "zWSRnQ0WI5eq"
   },
   "outputs": [
    {
     "data": {
      "text/plain": [
       "array([[0.12340812, 0.16807005, 0.08483782, 0.05002348, 0.07190228,\n",
       "        0.11549591, 0.06918786, 0.09555715, 0.07487053, 0.14664678]],\n",
       "      dtype=float32)"
      ]
     },
     "execution_count": 9,
     "metadata": {},
     "output_type": "execute_result"
    }
   ],
   "source": [
    "tf.nn.softmax(predictions).numpy()"
   ]
  },
  {
   "cell_type": "markdown",
   "metadata": {
    "id": "he5u_okAYS4a"
   },
   "source": [
    "Note: It is possible to bake the `tf.nn.softmax` function into the activation function for the last layer of the network. While this can make the model output more directly interpretable, this approach is discouraged as it's impossible to provide an exact and numerically stable loss calculation for all models when using a softmax output. "
   ]
  },
  {
   "cell_type": "markdown",
   "metadata": {
    "id": "hQyugpgRIyrA"
   },
   "source": [
    "Define a loss function for training using `losses.SparseCategoricalCrossentropy`:"
   ]
  },
  {
   "cell_type": "code",
   "execution_count": 10,
   "metadata": {
    "execution": {
     "iopub.execute_input": "2023-01-05T02:22:20.087057Z",
     "iopub.status.busy": "2023-01-05T02:22:20.086772Z",
     "iopub.status.idle": "2023-01-05T02:22:20.090872Z",
     "shell.execute_reply": "2023-01-05T02:22:20.090014Z"
    },
    "id": "RSkzdv8MD0tT"
   },
   "outputs": [],
   "source": [
    "loss_fn = tf.keras.losses.SparseCategoricalCrossentropy(from_logits=True)"
   ]
  },
  {
   "cell_type": "markdown",
   "metadata": {
    "id": "SfR4MsSDU880"
   },
   "source": [
    "The loss function takes a vector of ground truth values and a vector of logits and returns a scalar loss for each example. This loss is equal to the negative log probability of the true class: The loss is zero if the model is sure of the correct class.\n",
    "\n",
    "This untrained model gives probabilities close to random (1/10 for each class), so the initial loss should be close to `-tf.math.log(1/10) ~= 2.3`."
   ]
  },
  {
   "cell_type": "code",
   "execution_count": 11,
   "metadata": {
    "execution": {
     "iopub.execute_input": "2023-01-05T02:22:20.094730Z",
     "iopub.status.busy": "2023-01-05T02:22:20.094442Z",
     "iopub.status.idle": "2023-01-05T02:22:20.115506Z",
     "shell.execute_reply": "2023-01-05T02:22:20.114634Z"
    },
    "id": "NJWqEVrrJ7ZB"
   },
   "outputs": [
    {
     "data": {
      "text/plain": [
       "2.1585202"
      ]
     },
     "execution_count": 11,
     "metadata": {},
     "output_type": "execute_result"
    }
   ],
   "source": [
    "loss_fn(y_train[:1], predictions).numpy()"
   ]
  },
  {
   "cell_type": "markdown",
   "metadata": {
    "id": "ada44eb947d4"
   },
   "source": [
    "Before you start training, configure and compile the model using Keras `Model.compile`. Set the [`optimizer`](https://www.tensorflow.org/api_docs/python/tf/keras/optimizers) class to `adam`, set the `loss` to the `loss_fn` function you defined earlier, and specify a metric to be evaluated for the model by setting the `metrics` parameter to `accuracy`."
   ]
  },
  {
   "cell_type": "code",
   "execution_count": 12,
   "metadata": {
    "execution": {
     "iopub.execute_input": "2023-01-05T02:22:20.119722Z",
     "iopub.status.busy": "2023-01-05T02:22:20.119117Z",
     "iopub.status.idle": "2023-01-05T02:22:20.134333Z",
     "shell.execute_reply": "2023-01-05T02:22:20.133519Z"
    },
    "id": "9foNKHzTD2Vo"
   },
   "outputs": [],
   "source": [
    "model.compile(optimizer='adam',\n",
    "              loss=loss_fn,\n",
    "              metrics=['accuracy'])"
   ]
  },
  {
   "cell_type": "markdown",
   "metadata": {
    "id": "ix4mEL65on-w"
   },
   "source": [
    "## Train and evaluate your model\n",
    "\n",
    "Use the `Model.fit` method to adjust your model parameters and minimize the loss: "
   ]
  },
  {
   "cell_type": "code",
   "execution_count": 13,
   "metadata": {
    "execution": {
     "iopub.execute_input": "2023-01-05T02:22:20.138349Z",
     "iopub.status.busy": "2023-01-05T02:22:20.137735Z",
     "iopub.status.idle": "2023-01-05T02:22:45.502142Z",
     "shell.execute_reply": "2023-01-05T02:22:45.501107Z"
    },
    "id": "y7suUbJXVLqP"
   },
   "outputs": [
    {
     "name": "stdout",
     "output_type": "stream",
     "text": [
      "Epoch 1/55\n",
      "1875/1875 [==============================] - 6s 3ms/step - loss: 0.2908 - accuracy: 0.9161\n",
      "Epoch 2/55\n",
      "1875/1875 [==============================] - 5s 3ms/step - loss: 0.1435 - accuracy: 0.9568\n",
      "Epoch 3/55\n",
      "1875/1875 [==============================] - 6s 3ms/step - loss: 0.1077 - accuracy: 0.9669\n",
      "Epoch 4/55\n",
      "1875/1875 [==============================] - 5s 3ms/step - loss: 0.0890 - accuracy: 0.9725\n",
      "Epoch 5/55\n",
      "1875/1875 [==============================] - 6s 3ms/step - loss: 0.0763 - accuracy: 0.9760\n",
      "Epoch 6/55\n",
      "1875/1875 [==============================] - 6s 3ms/step - loss: 0.0658 - accuracy: 0.9793\n",
      "Epoch 7/55\n",
      "1875/1875 [==============================] - 6s 3ms/step - loss: 0.0578 - accuracy: 0.9813\n",
      "Epoch 8/55\n",
      "1875/1875 [==============================] - 5s 3ms/step - loss: 0.0534 - accuracy: 0.9828\n",
      "Epoch 9/55\n",
      "1875/1875 [==============================] - 5s 3ms/step - loss: 0.0477 - accuracy: 0.9843\n",
      "Epoch 10/55\n",
      "1875/1875 [==============================] - 5s 3ms/step - loss: 0.0448 - accuracy: 0.9848\n",
      "Epoch 11/55\n",
      "1875/1875 [==============================] - 5s 3ms/step - loss: 0.0412 - accuracy: 0.9857\n",
      "Epoch 12/55\n",
      "1875/1875 [==============================] - 5s 3ms/step - loss: 0.0388 - accuracy: 0.9875\n",
      "Epoch 13/55\n",
      "1875/1875 [==============================] - 5s 3ms/step - loss: 0.0368 - accuracy: 0.9872\n",
      "Epoch 14/55\n",
      "1875/1875 [==============================] - 4s 2ms/step - loss: 0.0356 - accuracy: 0.9880\n",
      "Epoch 15/55\n",
      "1875/1875 [==============================] - 4s 2ms/step - loss: 0.0307 - accuracy: 0.9891\n",
      "Epoch 16/55\n",
      "1875/1875 [==============================] - 5s 3ms/step - loss: 0.0306 - accuracy: 0.9900\n",
      "Epoch 17/55\n",
      "1875/1875 [==============================] - 5s 3ms/step - loss: 0.0307 - accuracy: 0.9894\n",
      "Epoch 18/55\n",
      "1875/1875 [==============================] - 5s 2ms/step - loss: 0.0290 - accuracy: 0.9904\n",
      "Epoch 19/55\n",
      "1875/1875 [==============================] - 4s 2ms/step - loss: 0.0276 - accuracy: 0.9905\n",
      "Epoch 20/55\n",
      "1875/1875 [==============================] - 5s 3ms/step - loss: 0.0259 - accuracy: 0.9912\n",
      "Epoch 21/55\n",
      "1875/1875 [==============================] - 5s 3ms/step - loss: 0.0247 - accuracy: 0.9915\n",
      "Epoch 22/55\n",
      "1875/1875 [==============================] - 4s 2ms/step - loss: 0.0256 - accuracy: 0.9913\n",
      "Epoch 23/55\n",
      "1875/1875 [==============================] - 5s 3ms/step - loss: 0.0242 - accuracy: 0.9915\n",
      "Epoch 24/55\n",
      "1875/1875 [==============================] - 5s 2ms/step - loss: 0.0223 - accuracy: 0.9921\n",
      "Epoch 25/55\n",
      "1875/1875 [==============================] - 5s 3ms/step - loss: 0.0221 - accuracy: 0.9920\n",
      "Epoch 26/55\n",
      "1875/1875 [==============================] - 4s 2ms/step - loss: 0.0216 - accuracy: 0.9928\n",
      "Epoch 27/55\n",
      "1875/1875 [==============================] - 5s 2ms/step - loss: 0.0224 - accuracy: 0.9922\n",
      "Epoch 28/55\n",
      "1875/1875 [==============================] - 5s 3ms/step - loss: 0.0218 - accuracy: 0.9927\n",
      "Epoch 29/55\n",
      "1875/1875 [==============================] - 5s 3ms/step - loss: 0.0190 - accuracy: 0.9934\n",
      "Epoch 30/55\n",
      "1875/1875 [==============================] - 5s 2ms/step - loss: 0.0195 - accuracy: 0.9933\n",
      "Epoch 31/55\n",
      "1875/1875 [==============================] - 5s 3ms/step - loss: 0.0206 - accuracy: 0.9924\n",
      "Epoch 32/55\n",
      "1875/1875 [==============================] - 5s 3ms/step - loss: 0.0201 - accuracy: 0.9929\n",
      "Epoch 33/55\n",
      "1875/1875 [==============================] - 5s 3ms/step - loss: 0.0183 - accuracy: 0.9935\n",
      "Epoch 34/55\n",
      "1875/1875 [==============================] - 5s 3ms/step - loss: 0.0183 - accuracy: 0.9935\n",
      "Epoch 35/55\n",
      "1875/1875 [==============================] - 5s 3ms/step - loss: 0.0177 - accuracy: 0.9938\n",
      "Epoch 36/55\n",
      "1875/1875 [==============================] - 5s 3ms/step - loss: 0.0178 - accuracy: 0.9941\n",
      "Epoch 37/55\n",
      "1875/1875 [==============================] - 5s 3ms/step - loss: 0.0193 - accuracy: 0.9936\n",
      "Epoch 38/55\n",
      "1875/1875 [==============================] - 5s 2ms/step - loss: 0.0170 - accuracy: 0.9942\n",
      "Epoch 39/55\n",
      "1875/1875 [==============================] - 5s 3ms/step - loss: 0.0182 - accuracy: 0.9936\n",
      "Epoch 40/55\n",
      "1875/1875 [==============================] - 5s 3ms/step - loss: 0.0173 - accuracy: 0.9942\n",
      "Epoch 41/55\n",
      "1875/1875 [==============================] - 4s 2ms/step - loss: 0.0158 - accuracy: 0.9944\n",
      "Epoch 42/55\n",
      "1875/1875 [==============================] - 4s 2ms/step - loss: 0.0170 - accuracy: 0.9944\n",
      "Epoch 43/55\n",
      "1875/1875 [==============================] - 5s 2ms/step - loss: 0.0186 - accuracy: 0.9935\n",
      "Epoch 44/55\n",
      "1875/1875 [==============================] - 5s 2ms/step - loss: 0.0168 - accuracy: 0.9944\n",
      "Epoch 45/55\n",
      "1875/1875 [==============================] - 5s 3ms/step - loss: 0.0166 - accuracy: 0.9937\n",
      "Epoch 46/55\n",
      "1875/1875 [==============================] - 5s 2ms/step - loss: 0.0152 - accuracy: 0.9950\n",
      "Epoch 47/55\n",
      "1875/1875 [==============================] - 4s 2ms/step - loss: 0.0154 - accuracy: 0.9945\n",
      "Epoch 48/55\n",
      "1875/1875 [==============================] - 4s 2ms/step - loss: 0.0145 - accuracy: 0.9949\n",
      "Epoch 49/55\n",
      "1875/1875 [==============================] - 5s 3ms/step - loss: 0.0156 - accuracy: 0.9948\n",
      "Epoch 50/55\n",
      "1875/1875 [==============================] - 5s 3ms/step - loss: 0.0152 - accuracy: 0.9949\n",
      "Epoch 51/55\n",
      "1875/1875 [==============================] - 5s 2ms/step - loss: 0.0162 - accuracy: 0.9941\n",
      "Epoch 52/55\n",
      "1875/1875 [==============================] - 5s 3ms/step - loss: 0.0143 - accuracy: 0.9954\n",
      "Epoch 53/55\n",
      "1875/1875 [==============================] - 5s 3ms/step - loss: 0.0152 - accuracy: 0.9950\n",
      "Epoch 54/55\n",
      "1875/1875 [==============================] - 5s 2ms/step - loss: 0.0142 - accuracy: 0.9952\n",
      "Epoch 55/55\n",
      "1875/1875 [==============================] - 5s 2ms/step - loss: 0.0158 - accuracy: 0.9947\n"
     ]
    },
    {
     "data": {
      "text/plain": [
       "<keras.callbacks.History at 0x1a010adba90>"
      ]
     },
     "execution_count": 13,
     "metadata": {},
     "output_type": "execute_result"
    }
   ],
   "source": [
    "model.fit(x_train, y_train, epochs=55)"
   ]
  },
  {
   "cell_type": "markdown",
   "metadata": {
    "id": "4mDAAPFqVVgn"
   },
   "source": [
    "The `Model.evaluate` method checks the model's performance, usually on a [validation set](https://developers.google.com/machine-learning/glossary#validation-set) or [test set](https://developers.google.com/machine-learning/glossary#test-set)."
   ]
  },
  {
   "cell_type": "code",
   "execution_count": 16,
   "metadata": {
    "execution": {
     "iopub.execute_input": "2023-01-05T02:22:45.506431Z",
     "iopub.status.busy": "2023-01-05T02:22:45.505811Z",
     "iopub.status.idle": "2023-01-05T02:22:46.390594Z",
     "shell.execute_reply": "2023-01-05T02:22:46.389744Z"
    },
    "id": "F7dTAzgHDUh7"
   },
   "outputs": [
    {
     "name": "stdout",
     "output_type": "stream",
     "text": [
      "313/313 - 1s - loss: 0.1288 - accuracy: 0.9797 - 590ms/epoch - 2ms/step\n"
     ]
    },
    {
     "data": {
      "text/plain": [
       "[0.1288061887025833, 0.9797000288963318]"
      ]
     },
     "execution_count": 16,
     "metadata": {},
     "output_type": "execute_result"
    }
   ],
   "source": [
    "model.evaluate(x_test,  y_test, verbose=2)"
   ]
  },
  {
   "cell_type": "markdown",
   "metadata": {
    "id": "T4JfEh7kvx6m"
   },
   "source": [
    "The image classifier is now trained to ~98% accuracy on this dataset. To learn more, read the [TensorFlow tutorials](https://www.tensorflow.org/tutorials/)."
   ]
  },
  {
   "cell_type": "markdown",
   "metadata": {
    "id": "Aj8NrlzlJqDG"
   },
   "source": [
    "If you want your model to return a probability, you can wrap the trained model, and attach the softmax to it:"
   ]
  },
  {
   "cell_type": "code",
   "execution_count": 28,
   "metadata": {
    "execution": {
     "iopub.execute_input": "2023-01-05T02:22:46.394869Z",
     "iopub.status.busy": "2023-01-05T02:22:46.394531Z",
     "iopub.status.idle": "2023-01-05T02:22:46.419774Z",
     "shell.execute_reply": "2023-01-05T02:22:46.418879Z"
    },
    "id": "rYb6DrEH0GMv"
   },
   "outputs": [],
   "source": [
    "probability_model = tf.keras.Sequential([\n",
    "  model,\n",
    "  tf.keras.layers.Softmax()\n",
    "])"
   ]
  },
  {
   "cell_type": "code",
   "execution_count": 29,
   "metadata": {
    "execution": {
     "iopub.execute_input": "2023-01-05T02:22:46.423242Z",
     "iopub.status.busy": "2023-01-05T02:22:46.422957Z",
     "iopub.status.idle": "2023-01-05T02:22:46.433317Z",
     "shell.execute_reply": "2023-01-05T02:22:46.432428Z"
    },
    "id": "cnqOZtUp1YR_"
   },
   "outputs": [
    {
     "data": {
      "text/plain": [
       "<tf.Tensor: shape=(5, 10), dtype=float32, numpy=\n",
       "array([[1.79283305e-07, 1.32197409e-08, 1.55715315e-05, 2.02358438e-04,\n",
       "        7.58437410e-11, 4.16019077e-08, 5.11944480e-12, 9.99774277e-01,\n",
       "        1.49787795e-07, 7.48567345e-06],\n",
       "       [5.21329957e-09, 1.44614751e-04, 9.99846578e-01, 7.23749145e-06,\n",
       "        2.72502046e-13, 1.04992715e-07, 4.91884506e-08, 1.16196983e-12,\n",
       "        1.38855842e-06, 1.29977111e-13],\n",
       "       [1.95801860e-07, 9.99085426e-01, 1.44428617e-04, 5.66570634e-06,\n",
       "        2.39041619e-05, 1.86133047e-06, 9.82684105e-06, 6.26007270e-04,\n",
       "        1.02378603e-04, 2.79163487e-07],\n",
       "       [9.99756634e-01, 1.75441195e-09, 1.95629073e-05, 4.71448948e-06,\n",
       "        8.59671491e-06, 1.77700840e-05, 1.76105634e-04, 1.44872347e-05,\n",
       "        4.28303309e-07, 1.71425916e-06],\n",
       "       [2.14805709e-06, 4.04512939e-08, 8.55208145e-06, 5.08110134e-07,\n",
       "        9.98082519e-01, 2.62736330e-06, 2.42776077e-05, 2.99232721e-04,\n",
       "        1.20684888e-07, 1.57989096e-03]], dtype=float32)>"
      ]
     },
     "execution_count": 29,
     "metadata": {},
     "output_type": "execute_result"
    }
   ],
   "source": [
    "probability_model(x_test[:5])"
   ]
  },
  {
   "cell_type": "markdown",
   "metadata": {
    "id": "-47O6_GLdRuT"
   },
   "source": [
    "## Conclusion\n",
    "\n",
    "Congratulations! You have trained a machine learning model using a prebuilt dataset using the [Keras](https://www.tensorflow.org/guide/keras/overview) API.\n",
    "\n",
    "For more examples of using Keras, check out the [tutorials](https://www.tensorflow.org/tutorials/keras/). To learn more about building models with Keras, read the [guides](https://www.tensorflow.org/guide/keras). If you want learn more about loading and preparing data, see the tutorials on [image data loading](https://www.tensorflow.org/tutorials/load_data/images) or [CSV data loading](https://www.tensorflow.org/tutorials/load_data/csv).\n"
   ]
  }
 ],
 "metadata": {
  "colab": {
   "name": "beginner.ipynb",
   "toc_visible": true
  },
  "kernelspec": {
   "display_name": "tf",
   "language": "python",
   "name": "python3"
  },
  "language_info": {
   "codemirror_mode": {
    "name": "ipython",
    "version": 3
   },
   "file_extension": ".py",
   "mimetype": "text/x-python",
   "name": "python",
   "nbconvert_exporter": "python",
   "pygments_lexer": "ipython3",
   "version": "3.9.15"
  },
  "vscode": {
   "interpreter": {
    "hash": "5de0d89323d0daf4000fb2be5e23b1798d5346fa579c2016b6b23a35c228cbaf"
   }
  }
 },
 "nbformat": 4,
 "nbformat_minor": 0
}
